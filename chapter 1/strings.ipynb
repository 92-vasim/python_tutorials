{
 "cells": [
  {
   "cell_type": "markdown",
   "metadata": {},
   "source": [
    "### **Strings & Indexing**"
   ]
  },
  {
   "cell_type": "markdown",
   "metadata": {},
   "source": [
    "#### **Strings:**\n",
    "\n",
    "In Python, a string is a sequence of characters enclosed in single (`'`) or double (`\"`) quotes. Strings are a fundamental data type used to represent text and are highly versatile for text manipulation."
   ]
  },
  {
   "cell_type": "code",
   "execution_count": 10,
   "metadata": {},
   "outputs": [],
   "source": [
    "my_string = \"Hello, World!\""
   ]
  },
  {
   "cell_type": "markdown",
   "metadata": {},
   "source": [
    "In Python, strings can be defined in various ways, depending on your needs and preferences. Here are some common ways to define strings:"
   ]
  },
  {
   "cell_type": "markdown",
   "metadata": {},
   "source": [
    "1. **Single Quotes (' '):** You can define a string using single quotes:"
   ]
  },
  {
   "cell_type": "code",
   "execution_count": null,
   "metadata": {},
   "outputs": [],
   "source": [
    "my_string = 'Hello, World!'"
   ]
  },
  {
   "cell_type": "markdown",
   "metadata": {},
   "source": [
    "2. **Double Quotes (\" \"):** You can define a string using double quotes:"
   ]
  },
  {
   "cell_type": "code",
   "execution_count": 11,
   "metadata": {},
   "outputs": [],
   "source": [
    "my_string = \"Hello, World!\""
   ]
  },
  {
   "cell_type": "markdown",
   "metadata": {},
   "source": [
    "Single and double quotes are interchangeable, and you can choose either style based on your coding style or to include one type of quote within the other."
   ]
  },
  {
   "cell_type": "markdown",
   "metadata": {},
   "source": [
    "3. **Triple Quotes (''' ''' or \"\"\" \"\"\"):** Triple quotes allow you to create multi-line strings:"
   ]
  },
  {
   "cell_type": "code",
   "execution_count": 12,
   "metadata": {},
   "outputs": [],
   "source": [
    "my_string = '''\n",
    "   This is a\n",
    "   multi-line\n",
    "   string.\n",
    "   '''"
   ]
  },
  {
   "cell_type": "markdown",
   "metadata": {},
   "source": [
    "You can use either single or double triple quotes, and they are often used for docstrings (documentation within functions or modules) and for strings spanning multiple lines."
   ]
  },
  {
   "cell_type": "markdown",
   "metadata": {},
   "source": [
    "4. **Escape Sequences:** You can use escape sequences to include special characters within a string, such as newline characters (\\n), tab characters (\\t), or literal quotes:"
   ]
  },
  {
   "cell_type": "code",
   "execution_count": 13,
   "metadata": {},
   "outputs": [],
   "source": [
    "my_string = \"This is a string with a newline.\\nAnd a tab: \\t.\""
   ]
  },
  {
   "cell_type": "markdown",
   "metadata": {},
   "source": [
    "5. **Raw Strings (r' ' or r\" \"):** Raw strings are used when you want to treat backslashes (\\) as literal characters and not as escape characters:"
   ]
  },
  {
   "cell_type": "code",
   "execution_count": 14,
   "metadata": {},
   "outputs": [],
   "source": [
    "raw_string = r'C:\\Users\\Username\\Documents'"
   ]
  },
  {
   "cell_type": "markdown",
   "metadata": {},
   "source": [
    "6. **String Concatenation:** You can concatenate (combine) strings using the `+` operator:"
   ]
  },
  {
   "cell_type": "code",
   "execution_count": 15,
   "metadata": {},
   "outputs": [],
   "source": [
    "first_name = \"John\"\n",
    "last_name = \"Doe\"\n",
    "full_name = first_name + \" \" + last_name  # Concatenates two strings"
   ]
  },
  {
   "cell_type": "markdown",
   "metadata": {},
   "source": [
    "7. **String Interpolation (f-strings):** Introduced in Python 3.6, f-strings allow you to embed expressions within strings by prefixing the string with an 'f' or 'F':"
   ]
  },
  {
   "cell_type": "code",
   "execution_count": 16,
   "metadata": {},
   "outputs": [],
   "source": [
    "name = \"Alice\"\n",
    "age = 30\n",
    "formatted_string = f\"My name is {name} and I am {age} years old.\""
   ]
  },
  {
   "cell_type": "markdown",
   "metadata": {},
   "source": [
    "These are the various ways to define and work with strings in Python. Each method has its use cases, and you can choose the one that best suits your specific requirements and coding style."
   ]
  },
  {
   "cell_type": "markdown",
   "metadata": {},
   "source": [
    "**String Formatting:**\n",
    "\n",
    "String formatting allows you to create strings with placeholders that are replaced with values at runtime. There are multiple ways to format strings in Python, including the old `%` operator and the newer `.format()` method. The most recent and recommended method is f-strings (formatted string literals)."
   ]
  },
  {
   "cell_type": "code",
   "execution_count": 17,
   "metadata": {},
   "outputs": [],
   "source": [
    "name = \"Alice\"\n",
    "age = 30\n",
    "\n",
    "# Using f-strings (Python 3.6+)\n",
    "formatted_string = f\"My name is {name} and I am {age} years old.\"\n",
    "\n",
    "# Using .format()\n",
    "formatted_string = \"My name is {} and I am {} years old.\".format(name, age)"
   ]
  },
  {
   "cell_type": "markdown",
   "metadata": {},
   "source": [
    "**String Slicing:**\n",
    "\n",
    "String slicing allows you to extract a portion (substring) of a string using indices."
   ]
  },
  {
   "cell_type": "code",
   "execution_count": 18,
   "metadata": {},
   "outputs": [],
   "source": [
    "my_string = \"Hello, World!\"\n",
    "\n",
    "# Extracting \"Hello\"\n",
    "substring = my_string[0:5]\n",
    "\n",
    "# Using negative indices to extract \"World!\"\n",
    "substring = my_string[-6:]"
   ]
  },
  {
   "cell_type": "markdown",
   "metadata": {},
   "source": [
    "**String Slicing with Skip Value:**\n",
    "\n",
    "You can slice a string with a skip value (step) to extract characters at intervals."
   ]
  },
  {
   "cell_type": "code",
   "execution_count": 19,
   "metadata": {},
   "outputs": [],
   "source": [
    "my_string = \"abcdefg\"\n",
    "\n",
    "# Extracting \"aceg\"\n",
    "substring = my_string[::2]"
   ]
  },
  {
   "cell_type": "markdown",
   "metadata": {},
   "source": [
    "**Advanced Slicing Techniques:**\n",
    "\n",
    "Advanced slicing allows you to manipulate strings with greater flexibility, including reversing a string."
   ]
  },
  {
   "cell_type": "code",
   "execution_count": 20,
   "metadata": {},
   "outputs": [],
   "source": [
    "my_string = \"Python is fun\"\n",
    "\n",
    "# Reverse the string\n",
    "reversed_string = my_string[::-1]\n",
    "\n",
    "# Extract words\n",
    "words = my_string.split()  # Splitting by spaces"
   ]
  },
  {
   "cell_type": "markdown",
   "metadata": {},
   "source": [
    "**String Functions:**\n",
    "\n",
    "Python provides numerous built-in string functions (methods) for string manipulation:"
   ]
  },
  {
   "cell_type": "code",
   "execution_count": 21,
   "metadata": {},
   "outputs": [],
   "source": [
    "my_string = \"Hello, World!\"\n",
    "\n",
    "# Length of the string\n",
    "length = len(my_string)  # length = 13\n",
    "\n",
    "# Convert to lowercase\n",
    "lowercase = my_string.lower()  # lowercase = \"hello, world!\"\n",
    "\n",
    "# Convert to uppercase\n",
    "uppercase = my_string.upper()  # uppercase = \"HELLO, WORLD!\"\n",
    "\n",
    "# Replace text\n",
    "new_string = my_string.replace(\"Hello\", \"Hi\")  # new_string = \"Hi, World!\"\n",
    "\n",
    "# Find the index of a substring\n",
    "index = my_string.find(\"World\")  # index = 7\n",
    "\n",
    "# Check if it starts with a specific substring\n",
    "starts_with = my_string.startswith(\"Hello\")  # starts_with = True\n",
    "\n",
    "# Check if it ends with a specific substring\n",
    "ends_with = my_string.endswith(\"World!\")  # ends_with = True"
   ]
  },
  {
   "cell_type": "markdown",
   "metadata": {},
   "source": [
    "These are some of the fundamental concepts and operations related to strings in Python. Strings are essential for working with text data and are extensively used in Python programming for various tasks."
   ]
  },
  {
   "cell_type": "markdown",
   "metadata": {},
   "source": [
    "#### **Indexing**"
   ]
  },
  {
   "cell_type": "markdown",
   "metadata": {},
   "source": [
    "Indexing in programming refers to the process of accessing individual elements or items in a collection or sequence, such as arrays, lists, strings, or other data structures. It allows you to pinpoint and retrieve a specific element within the collection by specifying its position or index. Indexing is fundamental for working with data and is a common concept in many programming languages, including Python.\n",
    "\n",
    "**Here are some key points about indexing in programming:**"
   ]
  },
  {
   "cell_type": "markdown",
   "metadata": {},
   "source": [
    "1. **Zero-Based Indexing:** In many programming languages, including Python, indexing is zero-based. This means that the first element in a collection is accessed using an index of 0, the second element with an index of 1, and so on. For example:"
   ]
  },
  {
   "cell_type": "code",
   "execution_count": 22,
   "metadata": {},
   "outputs": [],
   "source": [
    "my_list = [10, 20, 30, 40, 50]\n",
    "first_element = my_list[0]  # Accesses the first element (10)\n",
    "second_element = my_list[1]  # Accesses the second element (20)"
   ]
  },
  {
   "cell_type": "markdown",
   "metadata": {},
   "source": [
    "2. **Positive and Negative Indices:** In addition to positive indices (starting from 0), some languages, like Python, also support negative indices. Negative indices count backward from the end of the collection. `-1` represents the last element, `-2` represents the second-to-last element, and so on. For example:"
   ]
  },
  {
   "cell_type": "code",
   "execution_count": 23,
   "metadata": {},
   "outputs": [],
   "source": [
    "my_string = \"Python\"\n",
    "last_char = my_string[-1]  # Accesses the last character ('n')\n",
    "second_last_char = my_string[-2]  # Accesses the second-to-last character ('o')"
   ]
  },
  {
   "cell_type": "markdown",
   "metadata": {},
   "source": [
    "3. **Out-of-Bounds Indexing:** Attempting to access an index that is beyond the bounds of the collection results in an error or an exception. It's essential to ensure that your index falls within the valid range.\n"
   ]
  },
  {
   "cell_type": "markdown",
   "metadata": {},
   "source": [
    "4. **Range of Indices:** You can use a range of indices to access multiple elements in a collection simultaneously. This is known as slicing. For example:\n"
   ]
  },
  {
   "cell_type": "code",
   "execution_count": 24,
   "metadata": {},
   "outputs": [],
   "source": [
    "my_list = [10, 20, 30, 40, 50]\n",
    "sliced_elements = my_list[1:4]  # Retrieves elements at indices 1, 2, and 3 ([20, 30, 40])"
   ]
  },
  {
   "cell_type": "markdown",
   "metadata": {},
   "source": [
    "Indexing is a fundamental concept that enables programmers to work with individual elements within data structures efficiently. It allows you to read, modify, and manipulate data as needed, making it a crucial skill for any programmer."
   ]
  }
 ],
 "metadata": {
  "kernelspec": {
   "display_name": "Python 3",
   "language": "python",
   "name": "python3"
  },
  "language_info": {
   "codemirror_mode": {
    "name": "ipython",
    "version": 3
   },
   "file_extension": ".py",
   "mimetype": "text/x-python",
   "name": "python",
   "nbconvert_exporter": "python",
   "pygments_lexer": "ipython3",
   "version": "3.11.2"
  },
  "orig_nbformat": 4
 },
 "nbformat": 4,
 "nbformat_minor": 2
}
