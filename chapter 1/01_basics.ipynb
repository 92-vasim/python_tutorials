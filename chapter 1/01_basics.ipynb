{
 "cells": [
  {
   "cell_type": "markdown",
   "metadata": {},
   "source": [
    "### **Basics**"
   ]
  },
  {
   "cell_type": "markdown",
   "metadata": {},
   "source": [
    "##### **Basics of Python**"
   ]
  },
  {
   "cell_type": "markdown",
   "metadata": {},
   "source": [
    "1. Data types\n",
    "2. Strings\n",
    "3. Lists, Dictionaries and Tuples\n",
    "4. Condition statements\n",
    "5. Loops \n",
    "6. Functions\n",
    "7. Comprehensions\n",
    "8. File I/O \n",
    "9. Exception Handling \n",
    "10. Classes"
   ]
  },
  {
   "cell_type": "markdown",
   "metadata": {},
   "source": [
    "**Basic statement**"
   ]
  },
  {
   "cell_type": "code",
   "execution_count": 3,
   "metadata": {},
   "outputs": [
    {
     "name": "stdout",
     "output_type": "stream",
     "text": [
      "Hello, world!\n",
      "Samdani Institute\n",
      "Welcome to Hyderabad\n",
      "Welcome to Ruman\n"
     ]
    }
   ],
   "source": [
    "print(\"Hello, world!\") # We are telling computer to tell \"hello world\"\n",
    "print(\"Samdani Institute\") # We are telling computer to tell \"hello world\"\n",
    "print(\"Welcome to Hyderabad\") # We are telling computer to tell \"hello world\"\n",
    "print(\"Welcome to Ruman\") # We are telling computer to tell \"hello world\""
   ]
  },
  {
   "cell_type": "markdown",
   "metadata": {},
   "source": [
    "**Comments**"
   ]
  },
  {
   "cell_type": "code",
   "execution_count": 11,
   "metadata": {},
   "outputs": [
    {
     "name": "stdout",
     "output_type": "stream",
     "text": [
      "Hello\n"
     ]
    }
   ],
   "source": [
    "print(\"Hello\")\n",
    "# this function tells computer to tell the specific sentence\n",
    "# single line comment "
   ]
  },
  {
   "cell_type": "markdown",
   "metadata": {},
   "source": [
    "**Keywords**"
   ]
  },
  {
   "cell_type": "markdown",
   "metadata": {},
   "source": [
    "print \n",
    "for\n",
    "if \n",
    "else\n",
    "\n"
   ]
  },
  {
   "cell_type": "markdown",
   "metadata": {},
   "source": []
  }
 ],
 "metadata": {
  "kernelspec": {
   "display_name": "Python 3",
   "language": "python",
   "name": "python3"
  },
  "language_info": {
   "codemirror_mode": {
    "name": "ipython",
    "version": 3
   },
   "file_extension": ".py",
   "mimetype": "text/x-python",
   "name": "python",
   "nbconvert_exporter": "python",
   "pygments_lexer": "ipython3",
   "version": "3.11.5"
  },
  "orig_nbformat": 4
 },
 "nbformat": 4,
 "nbformat_minor": 2
}
