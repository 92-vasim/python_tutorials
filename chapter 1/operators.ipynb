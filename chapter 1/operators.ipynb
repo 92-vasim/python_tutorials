{
 "cells": [
  {
   "cell_type": "markdown",
   "metadata": {},
   "source": [
    "### **Operators**"
   ]
  },
  {
   "cell_type": "markdown",
   "metadata": {},
   "source": [
    "Operators in Python are special symbols or keywords used to perform operations on variables and values. Python supports various types of operators, including arithmetic, comparison, logical, assignment, and more. Here are some common types of operators with demonstrations:"
   ]
  },
  {
   "cell_type": "markdown",
   "metadata": {},
   "source": [
    "**1. Arithmetic Operators:**\n",
    "   - Used for mathematical calculations.\n",
    "   - Examples:"
   ]
  },
  {
   "cell_type": "code",
   "execution_count": 1,
   "metadata": {},
   "outputs": [],
   "source": [
    "a = 10\n",
    "b = 5\n",
    "\n",
    "# Addition\n",
    "result_add = a + b  # result_add = 15\n",
    "\n",
    "# Subtraction\n",
    "result_sub = a - b  # result_sub = 5\n",
    "\n",
    "# Multiplication\n",
    "result_mul = a * b  # result_mul = 50\n",
    "\n",
    "# Division\n",
    "result_div = a / b  # result_div = 2.0 (always returns a float)\n",
    "\n",
    "# Floor Division (integer division)\n",
    "result_floor = a // b  # result_floor = 2\n",
    "\n",
    "# Modulus (remainder)\n",
    "result_mod = a % b  # result_mod = 0\n",
    "\n",
    "# Exponentiation\n",
    "result_exp = a ** b  # result_exp = 100000"
   ]
  },
  {
   "cell_type": "markdown",
   "metadata": {},
   "source": [
    "**2. Comparison Operators:**\n",
    "   - Used to compare values and return a Boolean (True or False) result.\n",
    "   - Examples:"
   ]
  },
  {
   "cell_type": "code",
   "execution_count": 2,
   "metadata": {},
   "outputs": [],
   "source": [
    "x = 10\n",
    "y = 5\n",
    "\n",
    "# Equal to\n",
    "is_equal = x == y  # is_equal = False\n",
    "\n",
    "# Not equal to\n",
    "is_not_equal = x != y  # is_not_equal = True\n",
    "\n",
    "# Greater than\n",
    "is_greater = x > y  # is_greater = True\n",
    "\n",
    "# Less than\n",
    "is_less = x < y  # is_less = False\n",
    "\n",
    "# Greater than or equal to\n",
    "is_greater_equal = x >= y  # is_greater_equal = True\n",
    "\n",
    "# Less than or equal to\n",
    "is_less_equal = x <= y  # is_less_equal = False"
   ]
  },
  {
   "cell_type": "markdown",
   "metadata": {},
   "source": [
    "**3. Logical Operators:**\n",
    "   - Used to perform logical operations on Boolean values.\n",
    "   - Examples:"
   ]
  },
  {
   "cell_type": "code",
   "execution_count": 3,
   "metadata": {},
   "outputs": [],
   "source": [
    "p = True\n",
    "q = False\n",
    "\n",
    "# Logical AND\n",
    "result_and = p and q  # result_and = False\n",
    "\n",
    "# Logical OR\n",
    "result_or = p or q  # result_or = True\n",
    "\n",
    "# Logical NOT\n",
    "result_not_p = not p  # result_not_p = False\n",
    "result_not_q = not q  # result_not_q = True"
   ]
  },
  {
   "cell_type": "markdown",
   "metadata": {},
   "source": [
    "**4. Assignment Operators:**\n",
    "   - Used to assign values to variables.\n",
    "   - Examples:"
   ]
  },
  {
   "cell_type": "code",
   "execution_count": 4,
   "metadata": {},
   "outputs": [],
   "source": [
    "x = 10\n",
    "y = 5\n",
    "\n",
    "# Assign value\n",
    "x = 15\n",
    "\n",
    "# Add and assign\n",
    "x += 5  # x is now 20\n",
    "\n",
    "# Subtract and assign\n",
    "y -= 2  # y is now 3\n",
    "\n",
    "# Multiply and assign\n",
    "x *= 2  # x is now 40\n",
    "\n",
    "# Divide and assign\n",
    "y /= 2  # y is now 1.5"
   ]
  }
 ],
 "metadata": {
  "kernelspec": {
   "display_name": "Python 3",
   "language": "python",
   "name": "python3"
  },
  "language_info": {
   "codemirror_mode": {
    "name": "ipython",
    "version": 3
   },
   "file_extension": ".py",
   "mimetype": "text/x-python",
   "name": "python",
   "nbconvert_exporter": "python",
   "pygments_lexer": "ipython3",
   "version": "3.11.2"
  },
  "orig_nbformat": 4
 },
 "nbformat": 4,
 "nbformat_minor": 2
}
