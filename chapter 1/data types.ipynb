{
 "cells": [
  {
   "cell_type": "markdown",
   "metadata": {},
   "source": [
    "### **Variables, Data Types, Type Casting & Input function**"
   ]
  },
  {
   "cell_type": "markdown",
   "metadata": {},
   "source": [
    "#### **Variable:**\n",
    "\n",
    "In programming, a variable is a container or a symbolic name that represents a value stored in memory. It's a way to store and manipulate data within a program. Variables can hold different types of data, and their values can change during the execution of a program.\n",
    "\n",
    "For example, in Python:"
   ]
  },
  {
   "cell_type": "code",
   "execution_count": null,
   "metadata": {},
   "outputs": [],
   "source": [
    "x = 5  # Here, 'x' is a variable that stores the value 5.\n",
    "name = \"Alice\"  # 'name' is a variable storing the string \"Alice.\""
   ]
  },
  {
   "cell_type": "markdown",
   "metadata": {},
   "source": [
    "**Rules of defining a variable:**\n",
    "\n",
    "1. Start with a letter (a-z, A-Z) or an underscore (_).\n",
    "2. After the first character, use letters, numbers, or underscores.\n",
    "3. Variable names are case-sensitive.\n",
    "4. Avoid using Python keywords.\n",
    "5. Use descriptive names for clarity and follow conventions (e.g., lowercase with underscores for multiple words)."
   ]
  },
  {
   "cell_type": "markdown",
   "metadata": {},
   "source": [
    "#### **Data Type:**\n",
    "\n",
    "Data types define the type of data that a variable can hold. They determine what kind of operations can be performed on the data and how the data is stored in memory. Common data types include integers, floating-point numbers, strings, and more complex types like lists and dictionaries."
   ]
  },
  {
   "cell_type": "markdown",
   "metadata": {},
   "source": [
    "In Python, data types are categorized into two main categories: primitive (or simple) data types and non-primitive (or complex) data types. Let's define these two categories:\n",
    "\n",
    "**Primitive Data Types (Simple Data Types):**\n",
    "\n",
    "Primitive data types, also known as simple data types, are the fundamental building blocks for representing basic values in Python. They are directly supported by the programming language and are used to represent single values. Python has several primitive data types, including:\n",
    "\n",
    "1. **Integer (`int`):** Represents whole numbers, both positive and negative, without a fractional component. For example: `5`, `-42`, `0`.\n",
    "\n",
    "2. **Floating-Point (`float`):** Represents real numbers, including those with decimal points. For example: `3.14`, `-0.5`, `2.0`.\n",
    "\n",
    "3. **Boolean (`bool`):** Represents two values, `True` and `False`, used for logical operations and comparisons.\n",
    "\n",
    "4. **String (`str`):** Represents text or sequences of characters enclosed in single or double quotes. For example: `\"Hello, world!\"`, `'Python'`.\n",
    "\n",
    "**Non-Primitive Data Types (Complex Data Types):**\n",
    "\n",
    "Non-primitive data types, also known as complex data types, are more advanced data structures that can hold collections of values or objects. They are composed of one or more primitive data types and are not directly built into the language but are implemented using classes and structures. Python provides several non-primitive data types, including:\n",
    "\n",
    "1. **List (`list`):** Represents an ordered collection of values, which can be of different data types. Lists are mutable, meaning you can change their contents (add, remove, modify elements).\n",
    "\n",
    "2. **Tuple (`tuple`):** Similar to a list but immutable (cannot be changed once created). Tuples are typically used for situations where you want a collection of values that should not be modified.\n",
    "\n",
    "3. **Dictionary (`dict`):** Represents a collection of key-value pairs, where each key is associated with a value. Keys are typically strings or numbers, and values can be of various data types.\n",
    "\n",
    "4. **Set (`set`):** Represents an unordered collection of unique values. Sets are useful for operations like checking for uniqueness and set arithmetic.\n",
    "\n",
    "5. **Frozen Set (`frozenset`):** Similar to a set but immutable, like tuples. Once created, the elements in a frozenset cannot be changed.\n",
    "\n",
    "6. **Custom Classes and Objects:** Python allows you to create custom classes and objects to represent complex data structures tailored to your specific needs. These can be considered non-primitive data types.\n",
    "\n",
    "Non-primitive data types provide greater flexibility for organizing and working with data in more complex ways compared to primitive data types.\n",
    "\n",
    "In summary, primitive data types in Python represent basic single values, while non-primitive data types allow you to work with collections of values or objects in more advanced ways. Both categories have their uses in programming, depending on the complexity of the data you need to handle."
   ]
  },
  {
   "cell_type": "markdown",
   "metadata": {},
   "source": [
    "##### **Here are some of the fundamental data types in Python:**"
   ]
  },
  {
   "cell_type": "markdown",
   "metadata": {},
   "source": [
    "1. **Integer (`int`):** Represents whole numbers, both positive and negative. For example:"
   ]
  },
  {
   "cell_type": "code",
   "execution_count": null,
   "metadata": {},
   "outputs": [],
   "source": [
    "age = 25"
   ]
  },
  {
   "cell_type": "markdown",
   "metadata": {},
   "source": [
    "2. **Floating-Point (`float`):** Represents real numbers (numbers with decimal points). For example:"
   ]
  },
  {
   "cell_type": "code",
   "execution_count": null,
   "metadata": {},
   "outputs": [],
   "source": [
    "pi = 3.14159"
   ]
  },
  {
   "cell_type": "markdown",
   "metadata": {},
   "source": [
    "3. **String (`str`):** Represents text or sequences of characters enclosed in single or double quotes. For example:"
   ]
  },
  {
   "cell_type": "code",
   "execution_count": null,
   "metadata": {},
   "outputs": [],
   "source": [
    "name = \"Alice\""
   ]
  },
  {
   "cell_type": "markdown",
   "metadata": {},
   "source": [
    "4. **Boolean (`bool`):** Represents either `True` or `False`, often used for logical comparisons. For example:"
   ]
  },
  {
   "cell_type": "code",
   "execution_count": null,
   "metadata": {},
   "outputs": [],
   "source": [
    "is_student = True"
   ]
  },
  {
   "cell_type": "markdown",
   "metadata": {},
   "source": [
    "5. **List (`list`):** Represents an ordered collection of values, which can be of different data types. For example:"
   ]
  },
  {
   "cell_type": "code",
   "execution_count": null,
   "metadata": {},
   "outputs": [],
   "source": [
    "fruits = [\"apple\", \"banana\", \"cherry\"]"
   ]
  },
  {
   "cell_type": "markdown",
   "metadata": {},
   "source": [
    "6. **Tuple (`tuple`):** Similar to a list but immutable (cannot be changed once created). For example:"
   ]
  },
  {
   "cell_type": "code",
   "execution_count": null,
   "metadata": {},
   "outputs": [],
   "source": [
    "coordinates = (2, 3)"
   ]
  },
  {
   "cell_type": "markdown",
   "metadata": {},
   "source": [
    "7. **Dictionary (`dict`):** Represents a collection of key-value pairs. For example:"
   ]
  },
  {
   "cell_type": "code",
   "execution_count": null,
   "metadata": {},
   "outputs": [],
   "source": [
    "person = {\"name\": \"Alice\", \"age\": 25}"
   ]
  },
  {
   "cell_type": "markdown",
   "metadata": {},
   "source": [
    "8. **Set (`set`):** Represents an unordered collection of unique values. For example:"
   ]
  },
  {
   "cell_type": "code",
   "execution_count": null,
   "metadata": {},
   "outputs": [],
   "source": [
    "unique_numbers = {1, 2, 3, 4, 5}"
   ]
  },
  {
   "cell_type": "markdown",
   "metadata": {},
   "source": [
    "9. **NoneType (`None`):** Represents the absence of a value or a null value. For example:"
   ]
  },
  {
   "cell_type": "code",
   "execution_count": null,
   "metadata": {},
   "outputs": [],
   "source": [
    "result = None"
   ]
  },
  {
   "cell_type": "markdown",
   "metadata": {},
   "source": [
    "#### **Type Casting**"
   ]
  },
  {
   "cell_type": "markdown",
   "metadata": {},
   "source": [
    "**Type Casting (Type Conversion):**\n",
    "\n",
    "Type casting, also known as type conversion, is the process of converting one data type into another in Python. It allows you to change the data type of a variable or a value. Python provides various built-in functions for type casting.\n",
    "\n",
    "**Common Type Casting Functions:**\n",
    "\n",
    "1. **`int()`:** Converts a value to an integer data type.\n",
    "2. **`float()`:** Converts a value to a floating-point data type.\n",
    "3. **`str()`:** Converts a value to a string data type.\n",
    "4. **`bool()`:** Converts a value to a Boolean data type.\n"
   ]
  },
  {
   "cell_type": "code",
   "execution_count": null,
   "metadata": {},
   "outputs": [],
   "source": [
    "# Type casting to int\n",
    "num_str = \"42\"\n",
    "num_int = int(num_str)\n",
    "print(num_int)  # Output: 42\n",
    "\n",
    "# Type casting to float\n",
    "num_str = \"3.14\"\n",
    "num_float = float(num_str)\n",
    "print(num_float)  # Output: 3.14\n",
    "\n",
    "# Type casting to string\n",
    "num_int = 42\n",
    "num_str = str(num_int)\n",
    "print(num_str)  # Output: \"42\"\n",
    "\n",
    "# Type casting to boolean\n",
    "value = 0  # 0 is considered False\n",
    "bool_value = bool(value)\n",
    "print(bool_value)  # Output: False"
   ]
  },
  {
   "cell_type": "markdown",
   "metadata": {},
   "source": [
    "#### **Input Function**"
   ]
  },
  {
   "cell_type": "markdown",
   "metadata": {},
   "source": [
    "**`input()` Function:**\n",
    "\n",
    "The `input()` function in Python is used to take user input from the keyboard. It allows users to enter values, which are read as strings and can be type casted as needed."
   ]
  },
  {
   "cell_type": "code",
   "execution_count": null,
   "metadata": {},
   "outputs": [],
   "source": [
    "# Input function to get user input\n",
    "user_name = input(\"Enter your name: \")\n",
    "print(\"Hello, \" + user_name + \"!\")\n",
    "\n",
    "# Input and type casting\n",
    "age_str = input(\"Enter your age: \")\n",
    "age_int = int(age_str)\n",
    "next_age = age_int + 1\n",
    "print(\"Next year, you will be\", next_age, \"years old.\")"
   ]
  },
  {
   "cell_type": "markdown",
   "metadata": {},
   "source": [
    "In the second example, the `input()` function is used to get the user's age as a string, and then it's type casted to an integer using `int()` so that you can perform arithmetic operations with it.\n",
    "\n",
    "Be cautious when using `input()` because it returns a string by default. You should type cast it to the appropriate data type if you plan to perform numeric or other non-string operations with the user's input."
   ]
  }
 ],
 "metadata": {
  "kernelspec": {
   "display_name": "Python 3",
   "language": "python",
   "name": "python3"
  },
  "language_info": {
   "codemirror_mode": {
    "name": "ipython",
    "version": 3
   },
   "file_extension": ".py",
   "mimetype": "text/x-python",
   "name": "python",
   "nbconvert_exporter": "python",
   "pygments_lexer": "ipython3",
   "version": "3.11.2"
  },
  "orig_nbformat": 4
 },
 "nbformat": 4,
 "nbformat_minor": 2
}
