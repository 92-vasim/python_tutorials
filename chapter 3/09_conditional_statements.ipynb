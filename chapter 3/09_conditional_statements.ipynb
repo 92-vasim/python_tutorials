{
 "cells": [
  {
   "cell_type": "markdown",
   "metadata": {},
   "source": [
    "### Conditional Statements"
   ]
  },
  {
   "cell_type": "markdown",
   "metadata": {},
   "source": [
    "- Definition\n",
    "- Syntax\n",
    "- Relational operations\n",
    "- Logical operations \n",
    "- If else ladder"
   ]
  },
  {
   "cell_type": "markdown",
   "metadata": {},
   "source": [
    "**Conditional Statements**:\n",
    "\n",
    "Conditional statements are used to execute different code blocks based on whether a specified condition evaluates to `True` or `False`.\n"
   ]
  },
  {
   "cell_type": "markdown",
   "metadata": {},
   "source": [
    "**Syntax of an `if` statement**:\n",
    "\n",
    "```python\n",
    "if condition:\n",
    "    # Code to execute if the condition is True\n",
    "```\n",
    "\n",
    "**Syntax of an `if`...`else` statement**:\n",
    "\n",
    "```python\n",
    "if condition:\n",
    "    # Code to execute if the condition is True\n",
    "else:\n",
    "    # Code to execute if the condition is False\n",
    "```\n",
    "\n",
    "**Syntax of an `if`...`elif`...`else` statement**:\n",
    "\n",
    "```python\n",
    "if condition1:\n",
    "    # Code to execute if condition1 is True\n",
    "elif condition2:\n",
    "    # Code to execute if condition1 is False and condition2 is True\n",
    "else:\n",
    "    # Code to execute if both condition1 and condition2 are False\n",
    "```\n"
   ]
  },
  {
   "cell_type": "markdown",
   "metadata": {},
   "source": [
    "**Relational Operators**:\n",
    "\n",
    "Relational operators are used to compare values and return `True` or `False`:\n",
    "\n",
    "- `==` (equal to): Checks if two values are equal.\n",
    "- `!=` (not equal to): Checks if two values are not equal.\n",
    "- `<` (less than): Checks if the left value is less than the right value.\n",
    "- `>` (greater than): Checks if the left value is greater than the right value.\n",
    "- `<=` (less than or equal to): Checks if the left value is less than or equal to the right value.\n",
    "- `>=` (greater than or equal to): Checks if the left value is greater than or equal to the right value.\n"
   ]
  },
  {
   "cell_type": "markdown",
   "metadata": {},
   "source": [
    "**Logical Operators**:\n",
    "\n",
    "Logical operators allow you to combine conditions:\n",
    "\n",
    "- `and`: Returns `True` if both conditions are `True`.\n",
    "- `or`: Returns `True` if at least one condition is `True`.\n",
    "- `not`: Reverses the value of a condition (`True` becomes `False`, and vice versa).\n"
   ]
  },
  {
   "cell_type": "markdown",
   "metadata": {},
   "source": [
    "**Demonstration**:\n",
    "\n",
    "Let's demonstrate these concepts by determining if a number is positive, negative, or zero:\n"
   ]
  },
  {
   "cell_type": "code",
   "execution_count": 8,
   "metadata": {},
   "outputs": [
    {
     "name": "stdout",
     "output_type": "stream",
     "text": [
      "The number is positive.\n"
     ]
    }
   ],
   "source": [
    "number = 5\n",
    "\n",
    "if number > 0:\n",
    "    print(\"The number is positive.\")\n",
    "elif number < 0:\n",
    "    print(\"The number is negative.\")\n",
    "else:\n",
    "    print(\"The number is zero.\")"
   ]
  },
  {
   "cell_type": "markdown",
   "metadata": {},
   "source": [
    "**Key Concepts for Beginners**:\n",
    "\n",
    "- Use `if` statements to execute code when a condition is `True`.\n",
    "- Use `else` to provide an alternative code block for when the condition is `False`.\n",
    "- Use `elif` (short for \"else if\") to check additional conditions after the initial `if`.\n",
    "- Conditions are evaluated from top to bottom, and the first true condition's code block is executed.\n",
    "- Proper indentation is crucial in Python to define code blocks within `if`, `elif`, and `else` statements.\n",
    "- You can use logical operators (`and`, `or`, `not`) to create more complex conditions by combining multiple conditions."
   ]
  },
  {
   "cell_type": "markdown",
   "metadata": {},
   "source": [
    "#### Different applications of syntax"
   ]
  },
  {
   "cell_type": "markdown",
   "metadata": {},
   "source": [
    "**1. If Statement**:\n",
    "\n",
    "This is the most basic form of a conditional statement. It executes a block of code if a condition is `True`.\n"
   ]
  },
  {
   "cell_type": "code",
   "execution_count": 9,
   "metadata": {},
   "outputs": [
    {
     "name": "stdout",
     "output_type": "stream",
     "text": [
      "You are eligible to vote.\n"
     ]
    }
   ],
   "source": [
    "age = 18\n",
    "\n",
    "if age >= 18:\n",
    "    print(\"You are eligible to vote.\")"
   ]
  },
  {
   "cell_type": "markdown",
   "metadata": {},
   "source": [
    "**2. If-Else Statement**:\n",
    "\n",
    "An `if`-`else` statement allows you to execute one block of code when a condition is `True` and another when it's `False`."
   ]
  },
  {
   "cell_type": "code",
   "execution_count": 10,
   "metadata": {},
   "outputs": [
    {
     "name": "stdout",
     "output_type": "stream",
     "text": [
      "You are not eligible to vote.\n"
     ]
    }
   ],
   "source": [
    "age = 15\n",
    "\n",
    "if age >= 18:\n",
    "    print(\"You are eligible to vote.\")\n",
    "else:\n",
    "    print(\"You are not eligible to vote.\")"
   ]
  },
  {
   "cell_type": "markdown",
   "metadata": {},
   "source": [
    "**3. If-Elif-Else Statement**:\n",
    "\n",
    "This is useful when you have multiple conditions to check. It allows you to provide alternative code blocks for different conditions."
   ]
  },
  {
   "cell_type": "code",
   "execution_count": 11,
   "metadata": {},
   "outputs": [
    {
     "name": "stdout",
     "output_type": "stream",
     "text": [
      "You got a C.\n"
     ]
    }
   ],
   "source": [
    "score = 75\n",
    "\n",
    "if score >= 90:\n",
    "    print(\"You got an A.\")\n",
    "elif score >= 80:\n",
    "    print(\"You got a B.\")\n",
    "elif score >= 70:\n",
    "    print(\"You got a C.\")\n",
    "else:\n",
    "    print(\"You got below a C.\")"
   ]
  },
  {
   "cell_type": "markdown",
   "metadata": {},
   "source": [
    "\n",
    "**4. Nested If Statements**:\n",
    "\n",
    "You can have `if` statements inside other `if` statements. This is useful for more complex conditions.\n"
   ]
  },
  {
   "cell_type": "code",
   "execution_count": 12,
   "metadata": {},
   "outputs": [
    {
     "name": "stdout",
     "output_type": "stream",
     "text": [
      "You can enter the club.\n"
     ]
    }
   ],
   "source": [
    "age = 18\n",
    "has_id = True\n",
    "\n",
    "if age >= 18:\n",
    "    if has_id:\n",
    "        print(\"You can enter the club.\")\n",
    "    else:\n",
    "        print(\"You need an ID to enter.\")\n",
    "else:\n",
    "    print(\"You are too young to enter.\")"
   ]
  },
  {
   "cell_type": "markdown",
   "metadata": {},
   "source": [
    "**5. Ternary Conditional Expression**:\n",
    "\n",
    "This is a concise way to write a simple conditional statement in a single line."
   ]
  },
  {
   "cell_type": "code",
   "execution_count": 13,
   "metadata": {},
   "outputs": [
    {
     "name": "stdout",
     "output_type": "stream",
     "text": [
      "Adult\n"
     ]
    }
   ],
   "source": [
    "age = 20\n",
    "\n",
    "result = \"Adult\" if age >= 18 else \"Minor\"\n",
    "print(result)"
   ]
  },
  {
   "cell_type": "markdown",
   "metadata": {},
   "source": [
    "These examples showcase different approaches to using conditional statements in Python. They allow you to make decisions, handle various scenarios, and control the flow of your programs based on specific conditions. Understanding and mastering conditional statements is a crucial skill in programming."
   ]
  },
  {
   "cell_type": "markdown",
   "metadata": {},
   "source": [
    "#### Examples of logical operations"
   ]
  },
  {
   "cell_type": "markdown",
   "metadata": {},
   "source": [
    "Logical operations (`and`, `or`, `not`) allow you to create more complex conditions by combining multiple conditions. We'll use examples to illustrate how these operations work."
   ]
  },
  {
   "cell_type": "markdown",
   "metadata": {},
   "source": [
    "**1. Using `and` Logical Operator**:\n",
    "\n",
    "The `and` operator returns `True` if both conditions are `True`. Otherwise, it returns `False`."
   ]
  },
  {
   "cell_type": "code",
   "execution_count": 14,
   "metadata": {},
   "outputs": [
    {
     "name": "stdout",
     "output_type": "stream",
     "text": [
      "You can enter the club.\n"
     ]
    }
   ],
   "source": [
    "age = 25\n",
    "has_id = True\n",
    "\n",
    "if age >= 18 and has_id:\n",
    "    print(\"You can enter the club.\")\n",
    "else:\n",
    "    print(\"You cannot enter the club.\")"
   ]
  },
  {
   "cell_type": "markdown",
   "metadata": {},
   "source": [
    "In this example, both `age >= 18` and `has_id` must be `True` for the person to enter the club.\n",
    "\n",
    "**2. Using `or` Logical Operator**:"
   ]
  },
  {
   "cell_type": "markdown",
   "metadata": {},
   "source": [
    "The `or` operator returns `True` if at least one condition is `True`. If both conditions are `False`, it returns `False`."
   ]
  },
  {
   "cell_type": "code",
   "execution_count": 15,
   "metadata": {},
   "outputs": [
    {
     "name": "stdout",
     "output_type": "stream",
     "text": [
      "You qualify for a discount.\n"
     ]
    }
   ],
   "source": [
    "is_student = True\n",
    "is_employee = False\n",
    "\n",
    "if is_student or is_employee:\n",
    "    print(\"You qualify for a discount.\")\n",
    "else:\n",
    "    print(\"You don't qualify for a discount.\")"
   ]
  },
  {
   "cell_type": "markdown",
   "metadata": {},
   "source": [
    "In this example, either being a student (`is_student`) or an employee (`is_employee`) qualifies for a discount."
   ]
  },
  {
   "cell_type": "markdown",
   "metadata": {},
   "source": [
    "**3. Using `not` Logical Operator**:\n",
    "\n",
    "The `not` operator reverses the value of a condition. If the condition is `True`, `not` makes it `False`, and vice versa."
   ]
  },
  {
   "cell_type": "code",
   "execution_count": 16,
   "metadata": {},
   "outputs": [
    {
     "name": "stdout",
     "output_type": "stream",
     "text": [
      "You cannot enter without a ticket.\n"
     ]
    }
   ],
   "source": [
    "has_ticket = False\n",
    "\n",
    "if not has_ticket:\n",
    "    print(\"You cannot enter without a ticket.\")\n",
    "else:\n",
    "    print(\"Welcome! Enjoy the event.\")"
   ]
  },
  {
   "cell_type": "markdown",
   "metadata": {},
   "source": [
    "Here, `not` is used to check if the person does not have a ticket (`has_ticket` is `False`), and they are denied entry."
   ]
  },
  {
   "cell_type": "markdown",
   "metadata": {},
   "source": [
    "These examples demonstrate how logical operators can be used to create more complex conditions in conditional statements. By combining conditions using `and`, `or`, and `not`, you can build decision-making logic that suits a wide range of scenarios in your Python programs."
   ]
  },
  {
   "cell_type": "markdown",
   "metadata": {},
   "source": [
    "These are the fundamental concepts and structures of conditional statements in Python. They are essential for building programs that respond to various scenarios and make decisions based on specific conditions."
   ]
  }
 ],
 "metadata": {
  "kernelspec": {
   "display_name": "Python 3",
   "language": "python",
   "name": "python3"
  },
  "language_info": {
   "codemirror_mode": {
    "name": "ipython",
    "version": 3
   },
   "file_extension": ".py",
   "mimetype": "text/x-python",
   "name": "python",
   "nbconvert_exporter": "python",
   "pygments_lexer": "ipython3",
   "version": "3.11.2"
  },
  "orig_nbformat": 4
 },
 "nbformat": 4,
 "nbformat_minor": 2
}
