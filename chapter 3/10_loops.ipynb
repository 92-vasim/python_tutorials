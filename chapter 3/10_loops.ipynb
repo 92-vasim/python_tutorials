{
 "cells": [
  {
   "cell_type": "markdown",
   "metadata": {},
   "source": [
    "## **Loops:**\n",
    "Loops in Python are used to repeatedly execute a block of code until a specific condition is met. Python supports two main types of loops: \"while\" loops and \"for\" loops. Additionally, there are some useful functions and statements related to loops."
   ]
  },
  {
   "cell_type": "markdown",
   "metadata": {},
   "source": [
    "**a. Types of Loops:**\n",
    "Python supports two main types of loops:\n",
    "\n",
    "1. **While Loop:** Executes a block of code as long as a specified condition is True.\n",
    "2. **For Loop:** Iterates over a sequence (such as a list, tuple, or string) or other iterable objects.\n",
    "\n",
    "**b. While Loop:**\n",
    "A while loop is used to repeatedly execute a block of code as long as a specified condition is True.\n",
    "\n",
    "**Example:**"
   ]
  },
  {
   "cell_type": "code",
   "execution_count": 1,
   "metadata": {},
   "outputs": [
    {
     "name": "stdout",
     "output_type": "stream",
     "text": [
      "Count is 0\n",
      "Count is 1\n",
      "Count is 2\n",
      "Count is 3\n",
      "Count is 4\n"
     ]
    }
   ],
   "source": [
    "count = 0\n",
    "while count < 5:\n",
    "    print(f\"Count is {count}\")\n",
    "    count += 1"
   ]
  },
  {
   "cell_type": "markdown",
   "metadata": {},
   "source": [
    "**Use Cases:**\n",
    "- When you want to repeat a block of code until a certain condition is met.\n",
    "- For tasks that require dynamic iteration (e.g., user input validation).\n",
    "\n",
    "**c. For Loop:**\n",
    "A for loop is used to iterate over a sequence or other iterable objects.\n",
    "\n",
    "**Example:**"
   ]
  },
  {
   "cell_type": "code",
   "execution_count": 2,
   "metadata": {},
   "outputs": [
    {
     "name": "stdout",
     "output_type": "stream",
     "text": [
      "I like apple\n",
      "I like banana\n",
      "I like cherry\n"
     ]
    }
   ],
   "source": [
    "# Demonstration of a for loop\n",
    "fruits = [\"apple\", \"banana\", \"cherry\"]\n",
    "for fruit in fruits:\n",
    "    print(f\"I like {fruit}\")"
   ]
  },
  {
   "cell_type": "markdown",
   "metadata": {},
   "source": [
    "**Use Cases:**\n",
    "- Iterating over a collection of items like lists, tuples, or dictionaries.\n",
    "- When you know the number of iterations in advance.\n",
    "\n",
    "**d. Range Function:**\n",
    "The `range` function is used to generate a sequence of numbers that can be used in a for loop.\n",
    "\n",
    "**Example:**"
   ]
  },
  {
   "cell_type": "code",
   "execution_count": 3,
   "metadata": {},
   "outputs": [
    {
     "name": "stdout",
     "output_type": "stream",
     "text": [
      "1\n",
      "2\n",
      "3\n",
      "4\n",
      "5\n"
     ]
    }
   ],
   "source": [
    "# Demonstration of the range function\n",
    "for i in range(1, 6):\n",
    "    print(i)"
   ]
  },
  {
   "cell_type": "markdown",
   "metadata": {},
   "source": [
    "**Use Cases:**\n",
    "- Generating a sequence of numbers for a specific number of iterations.\n",
    "\n",
    "**e. For Loop with Else:**\n",
    "In Python, you can use the `else` clause with a for loop. The code in the else block is executed after the loop completes normally (i.e., without encountering a `break` statement).\n",
    "\n",
    "**Example:**"
   ]
  },
  {
   "cell_type": "code",
   "execution_count": 4,
   "metadata": {},
   "outputs": [
    {
     "name": "stdout",
     "output_type": "stream",
     "text": [
      "I like apple\n",
      "I like banana\n",
      "I like cherry\n",
      "I've listed all my favorite fruits.\n"
     ]
    }
   ],
   "source": [
    "# Demonstration of a for loop with an else block\n",
    "fruits = [\"apple\", \"banana\", \"cherry\"]\n",
    "for fruit in fruits:\n",
    "    print(f\"I like {fruit}\")\n",
    "else:\n",
    "    print(\"I've listed all my favorite fruits.\")"
   ]
  },
  {
   "cell_type": "markdown",
   "metadata": {},
   "source": [
    "**Use Cases:**\n",
    "- To execute code after a loop has iterated through all elements in an iterable without any interruptions.\n",
    "\n",
    "**f. Break/Continue/Pass Statements:**\n",
    "These are control flow statements used within loops:\n",
    "\n",
    "- **Break:** Terminates the loop prematurely.\n",
    "- **Continue:** Skips the current iteration and continues to the next one.\n",
    "- **Pass:** Does nothing, acting as a placeholder.\n",
    "\n",
    "**Example:**"
   ]
  },
  {
   "cell_type": "code",
   "execution_count": 5,
   "metadata": {},
   "outputs": [
    {
     "name": "stdout",
     "output_type": "stream",
     "text": [
      "1\n"
     ]
    }
   ],
   "source": [
    "# Demonstration of break, continue, and pass\n",
    "for i in range(1, 6):\n",
    "    if i == 3:\n",
    "        break  # Terminates the loop when i is 3\n",
    "    elif i == 2:\n",
    "        continue  # Skips iteration when i is 2\n",
    "    else:\n",
    "        pass  # Placeholder, does nothing\n",
    "    print(i)"
   ]
  },
  {
   "cell_type": "markdown",
   "metadata": {},
   "source": [
    "**Use Cases:**\n",
    "- `break`: Used to exit a loop early based on a certain condition.\n",
    "- `continue`: Used to skip the current iteration and move to the next one.\n",
    "- `pass`: Acts as a placeholder for future code."
   ]
  }
 ],
 "metadata": {
  "kernelspec": {
   "display_name": "Python 3",
   "language": "python",
   "name": "python3"
  },
  "language_info": {
   "codemirror_mode": {
    "name": "ipython",
    "version": 3
   },
   "file_extension": ".py",
   "mimetype": "text/x-python",
   "name": "python",
   "nbconvert_exporter": "python",
   "pygments_lexer": "ipython3",
   "version": "3.10.6"
  }
 },
 "nbformat": 4,
 "nbformat_minor": 2
}
