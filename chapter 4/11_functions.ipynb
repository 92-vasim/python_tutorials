{
 "cells": [
  {
   "cell_type": "markdown",
   "metadata": {},
   "source": [
    "### **Functions:**\n",
    "A function in Python is a reusable block of code that performs a specific task. It can take input, perform operations, and return a result.\n",
    "\n",
    "**Example:**"
   ]
  },
  {
   "cell_type": "code",
   "execution_count": 1,
   "metadata": {},
   "outputs": [],
   "source": [
    "def greet(name):\n",
    "    return f\"Hello, {name}!\""
   ]
  },
  {
   "cell_type": "markdown",
   "metadata": {},
   "source": [
    "**Use Cases:**\n",
    "- Encapsulating code to make it more organized and readable.\n",
    "- Reusing code to avoid duplication.\n",
    "- Modularity and separation of concerns.\n",
    "\n",
    "**b. Function Call:**\n",
    "A function call is the action of invoking a function to execute its code and, optionally, receive its return value.\n",
    "\n",
    "**Example:**"
   ]
  },
  {
   "cell_type": "code",
   "execution_count": 2,
   "metadata": {},
   "outputs": [
    {
     "name": "stdout",
     "output_type": "stream",
     "text": [
      "Hello, Alice!\n"
     ]
    }
   ],
   "source": [
    "result = greet(\"Alice\")\n",
    "print(result)"
   ]
  },
  {
   "cell_type": "markdown",
   "metadata": {},
   "source": [
    "**Use Cases:**\n",
    "- Executing the code within a function.\n",
    "- Capturing the result of the function's execution.\n",
    "\n",
    "**c. Types of Functions:**\n",
    "There are several types of functions in Python, including:\n",
    "- **Built-in Functions:** Functions provided by Python, e.g., `print()`, `len()`.\n",
    "- **User-Defined Functions:** Functions created by the programmer.\n",
    "- **Anonymous Functions:** Functions defined without a name, using `lambda` keyword.\n",
    "- **Recursive Functions:** Functions that call themselves.\n",
    "\n",
    "**d. Functions with Arguments:**\n",
    "Functions can accept arguments (input values) to process and return a result based on those arguments.\n",
    "\n",
    "**Example:**"
   ]
  },
  {
   "cell_type": "code",
   "execution_count": 3,
   "metadata": {},
   "outputs": [],
   "source": [
    "def add(x, y):\n",
    "    return x + y\n",
    "\n",
    "result = add(3, 4)"
   ]
  },
  {
   "cell_type": "markdown",
   "metadata": {},
   "source": [
    "**Use Cases:**\n",
    "- Performing operations on input data.\n",
    "- Calculating results based on provided values.\n",
    "\n",
    "**e. Functions with Default Arguments:**\n",
    "Python allows defining default values for function parameters. If an argument is not provided, the default value is used.\n",
    "\n",
    "**Example:**"
   ]
  },
  {
   "cell_type": "code",
   "execution_count": 4,
   "metadata": {},
   "outputs": [],
   "source": [
    "def greet(name=\"Guest\"):\n",
    "    return f\"Hello, {name}!\"\n",
    "\n",
    "greeting = greet()  # Uses the default value\n",
    "custom_greeting = greet(\"Alice\")  # Uses the provided value"
   ]
  },
  {
   "cell_type": "markdown",
   "metadata": {},
   "source": [
    "**Use Cases:**\n",
    "- Providing flexibility when calling a function.\n",
    "- Avoiding the need to provide every argument in every function call.\n",
    "\n",
    "**f. Recursion:**\n",
    "Recursion is a technique where a function calls itself to solve a problem. Recursive functions have two parts: a base case (to stop recursion) and a recursive case (to call the function itself).\n",
    "\n",
    "**Example:**"
   ]
  },
  {
   "cell_type": "code",
   "execution_count": 5,
   "metadata": {},
   "outputs": [],
   "source": [
    "def factorial(n):\n",
    "    if n == 0:\n",
    "        return 1\n",
    "    else:\n",
    "        return n * factorial(n - 1)"
   ]
  },
  {
   "cell_type": "markdown",
   "metadata": {},
   "source": [
    "**Use Cases:**\n",
    "- Solving problems that can be broken down into smaller, similar sub-problems (e.g., factorials, Fibonacci sequence).\n",
    "- Implementing algorithms like tree traversal.\n",
    "\n",
    "These are the concepts and examples related to functions in Python. Functions are essential for structuring code, promoting reusability, and solving complex problems in a modular manner."
   ]
  }
 ],
 "metadata": {
  "kernelspec": {
   "display_name": "Python 3",
   "language": "python",
   "name": "python3"
  },
  "language_info": {
   "codemirror_mode": {
    "name": "ipython",
    "version": 3
   },
   "file_extension": ".py",
   "mimetype": "text/x-python",
   "name": "python",
   "nbconvert_exporter": "python",
   "pygments_lexer": "ipython3",
   "version": "3.10.6"
  }
 },
 "nbformat": 4,
 "nbformat_minor": 2
}
