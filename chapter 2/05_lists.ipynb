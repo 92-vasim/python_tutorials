{
 "cells": [
  {
   "cell_type": "markdown",
   "metadata": {},
   "source": [
    "### List, List Indexing, List Methods"
   ]
  },
  {
   "cell_type": "markdown",
   "metadata": {},
   "source": [
    "**List** is a built-in data structure used to store a collection of items. Lists are ordered and mutable, which means you can change their contents (add, remove, or modify items) after they are created. Lists can contain elements of different data types, including numbers, strings, and even other lists. Lists are defined using square brackets `[]` and elements within the list are separated by commas."
   ]
  },
  {
   "cell_type": "markdown",
   "metadata": {},
   "source": [
    "Here's a basic demonstration of lists and some common list operations:"
   ]
  },
  {
   "cell_type": "markdown",
   "metadata": {},
   "source": [
    "1. **Creating a List**:\n"
   ]
  },
  {
   "cell_type": "code",
   "execution_count": 1,
   "metadata": {},
   "outputs": [],
   "source": [
    "fruits = [\"apple\", \"banana\", \"cherry\", \"date\"]"
   ]
  },
  {
   "cell_type": "markdown",
   "metadata": {},
   "source": [
    "2. **Accessing Elements (List Indexing)**:\n",
    "- Lists are zero-indexed, which means the first element has an index of 0, the second has an index of 1, and so on."
   ]
  },
  {
   "cell_type": "code",
   "execution_count": 2,
   "metadata": {},
   "outputs": [],
   "source": [
    "first_fruit = fruits[0]  # Access the first element (apple)\n",
    "second_fruit = fruits[1]  # Access the second element (banana)"
   ]
  },
  {
   "cell_type": "markdown",
   "metadata": {},
   "source": [
    "  - Negative indices count from the end of the list. `-1` represents the last element, `-2` the second-to-last, and so forth.\n"
   ]
  },
  {
   "cell_type": "code",
   "execution_count": 3,
   "metadata": {},
   "outputs": [],
   "source": [
    "last_fruit = fruits[-1]  # Access the last element (date)"
   ]
  },
  {
   "cell_type": "markdown",
   "metadata": {},
   "source": [
    "3. **List Methods**:\n",
    "\n",
    "   - `append()`: Adds an element to the end of the list.\n"
   ]
  },
  {
   "cell_type": "code",
   "execution_count": 4,
   "metadata": {},
   "outputs": [],
   "source": [
    "fruits.append(\"fig\")\n",
    "# fruits is now [\"apple\", \"banana\", \"cherry\", \"date\", \"fig\"]"
   ]
  },
  {
   "cell_type": "markdown",
   "metadata": {},
   "source": [
    "   - `insert()`: Inserts an element at a specific index."
   ]
  },
  {
   "cell_type": "code",
   "execution_count": 5,
   "metadata": {},
   "outputs": [],
   "source": [
    "fruits.insert(2, \"grape\")\n",
    "# fruits is now [\"apple\", \"banana\", \"grape\", \"cherry\", \"date\", \"fig\"]"
   ]
  },
  {
   "cell_type": "markdown",
   "metadata": {},
   "source": [
    "- `remove()`: Removes the first occurrence of a specific element."
   ]
  },
  {
   "cell_type": "code",
   "execution_count": 6,
   "metadata": {},
   "outputs": [],
   "source": [
    "fruits.remove(\"cherry\")\n",
    "# fruits is now [\"apple\", \"banana\", \"grape\", \"date\", \"fig\"]"
   ]
  },
  {
   "cell_type": "markdown",
   "metadata": {},
   "source": [
    "- `pop()`: Removes and returns the element at a specific index (or the last element if no index is specified)."
   ]
  },
  {
   "cell_type": "code",
   "execution_count": 7,
   "metadata": {},
   "outputs": [],
   "source": [
    "removed_fruit = fruits.pop(1)\n",
    "# removed_fruit is \"banana\", fruits is now [\"apple\", \"grape\", \"date\", \"fig\"]"
   ]
  },
  {
   "cell_type": "markdown",
   "metadata": {},
   "source": [
    "- `len()`: Returns the number of elements in the list."
   ]
  },
  {
   "cell_type": "code",
   "execution_count": 8,
   "metadata": {},
   "outputs": [],
   "source": [
    "num_fruits = len(fruits)  # num_fruits is 4"
   ]
  },
  {
   "cell_type": "markdown",
   "metadata": {},
   "source": [
    "- `sort()`: Sorts the list in ascending order."
   ]
  },
  {
   "cell_type": "code",
   "execution_count": 9,
   "metadata": {},
   "outputs": [],
   "source": [
    "fruits.sort()\n",
    "# fruits is now [\"apple\", \"date\", \"fig\", \"grape\"]"
   ]
  },
  {
   "cell_type": "markdown",
   "metadata": {},
   "source": [
    "   - `reverse()`: Reverses the order of elements in the list."
   ]
  },
  {
   "cell_type": "code",
   "execution_count": 10,
   "metadata": {},
   "outputs": [],
   "source": [
    "fruits.reverse()\n",
    "# fruits is now [\"grape\", \"fig\", \"date\", \"apple\"]"
   ]
  },
  {
   "cell_type": "markdown",
   "metadata": {},
   "source": [
    "These are some of the most common list methods and operations in Python. Lists are versatile and widely used for various tasks in Python programming."
   ]
  }
 ],
 "metadata": {
  "kernelspec": {
   "display_name": "Python 3",
   "language": "python",
   "name": "python3"
  },
  "language_info": {
   "codemirror_mode": {
    "name": "ipython",
    "version": 3
   },
   "file_extension": ".py",
   "mimetype": "text/x-python",
   "name": "python",
   "nbconvert_exporter": "python",
   "pygments_lexer": "ipython3",
   "version": "3.11.2"
  },
  "orig_nbformat": 4
 },
 "nbformat": 4,
 "nbformat_minor": 2
}
