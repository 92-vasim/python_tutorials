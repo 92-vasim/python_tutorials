{
 "cells": [
  {
   "cell_type": "markdown",
   "metadata": {},
   "source": [
    "### Set, Properties, Operations, Methods"
   ]
  },
  {
   "cell_type": "markdown",
   "metadata": {},
   "source": [
    "A set in Python is an unordered collection of unique elements. Unlike lists or tuples, which are ordered and can contain duplicate elements, sets only store distinct items. Sets are useful when you want to work with a unique collection of elements and perform set-related operations like union, intersection, difference, etc."
   ]
  },
  {
   "cell_type": "markdown",
   "metadata": {},
   "source": [
    "**Properties of Sets**:\n",
    "\n",
    "1. **Uniqueness**: Sets contain only unique elements; duplicate elements are not allowed.\n",
    "\n",
    "2. **Unordered**: Elements in a set are not ordered, meaning there is no specific index associated with each element.\n",
    "\n",
    "3. **Mutability**: Sets are mutable, allowing you to add and remove elements after creation.\n"
   ]
  },
  {
   "cell_type": "markdown",
   "metadata": {},
   "source": [
    "\n",
    "**Creating a Set**:\n",
    "\n",
    "You can create a set by enclosing a comma-separated sequence of elements within curly braces `{}`."
   ]
  },
  {
   "cell_type": "code",
   "execution_count": 1,
   "metadata": {},
   "outputs": [],
   "source": [
    "# Creating a set of unique numbers\n",
    "numbers_set = {1, 2, 3, 4}"
   ]
  },
  {
   "cell_type": "markdown",
   "metadata": {},
   "source": [
    "**Operations on Sets**:\n",
    "\n",
    "Sets support various operations to perform set-related actions:\n",
    "\n",
    "- **Union (`|`)**: Combines elements from two sets, resulting in a set of unique elements from both sets."
   ]
  },
  {
   "cell_type": "code",
   "execution_count": 2,
   "metadata": {},
   "outputs": [],
   "source": [
    "set1 = {1, 2, 3}\n",
    "set2 = {3, 4, 5}\n",
    "union_set = set1 | set2  # Union of set1 and set2"
   ]
  },
  {
   "cell_type": "markdown",
   "metadata": {},
   "source": [
    "- **Intersection (`&`)**: Retrieves elements common to both sets."
   ]
  },
  {
   "cell_type": "code",
   "execution_count": 3,
   "metadata": {},
   "outputs": [],
   "source": [
    "intersection_set = set1 & set2  # Intersection of set1 and set2"
   ]
  },
  {
   "cell_type": "markdown",
   "metadata": {},
   "source": [
    "- **Difference (`-`)**: Returns elements that are in the first set but not in the second set."
   ]
  },
  {
   "cell_type": "code",
   "execution_count": 4,
   "metadata": {},
   "outputs": [],
   "source": [
    "difference_set = set1 - set2  # Elements in set1 but not in set2"
   ]
  },
  {
   "cell_type": "markdown",
   "metadata": {},
   "source": [
    "- **Symmetric Difference (`^`)**: Returns elements that are in either of the sets, but not in both."
   ]
  },
  {
   "cell_type": "code",
   "execution_count": 5,
   "metadata": {},
   "outputs": [],
   "source": [
    "symmetric_difference_set = set1 ^ set2  # Elements in set1 or set2, but not in both"
   ]
  },
  {
   "cell_type": "markdown",
   "metadata": {},
   "source": [
    "**Set Methods**:\n",
    "\n",
    "Here are some common methods that can be applied to sets:\n",
    "\n",
    "- `add(element)`: Adds a single element to the set.\n"
   ]
  },
  {
   "cell_type": "code",
   "execution_count": 6,
   "metadata": {},
   "outputs": [],
   "source": [
    "numbers_set.add(5)  # Adds 5 to the set"
   ]
  },
  {
   "cell_type": "markdown",
   "metadata": {},
   "source": [
    "- `remove(element)`: Removes a specific element from the set. If the element is not present, it raises a `KeyError`."
   ]
  },
  {
   "cell_type": "code",
   "execution_count": 7,
   "metadata": {},
   "outputs": [],
   "source": [
    "numbers_set.remove(4)  # Removes 4 from the set"
   ]
  },
  {
   "cell_type": "markdown",
   "metadata": {},
   "source": [
    "- `discard(element)`: Removes a specific element from the set if it is present, but does not raise an error if the element is not found."
   ]
  },
  {
   "cell_type": "code",
   "execution_count": 8,
   "metadata": {},
   "outputs": [],
   "source": [
    "numbers_set.discard(3)  # Removes 3 from the set if present"
   ]
  },
  {
   "cell_type": "markdown",
   "metadata": {},
   "source": [
    "- `pop()`: Removes and returns an arbitrary element from the set. If the set is empty, it raises a `KeyError`."
   ]
  },
  {
   "cell_type": "code",
   "execution_count": 9,
   "metadata": {},
   "outputs": [],
   "source": [
    "popped_element = numbers_set.pop()  # Removes and returns an element"
   ]
  },
  {
   "cell_type": "markdown",
   "metadata": {},
   "source": [
    "- `clear()`: Removes all elements from the set, making it an empty set."
   ]
  },
  {
   "cell_type": "code",
   "execution_count": 10,
   "metadata": {},
   "outputs": [],
   "source": [
    "numbers_set.clear()  # Clears all elements from the set"
   ]
  },
  {
   "cell_type": "markdown",
   "metadata": {},
   "source": [
    "These are the fundamental concepts, properties, operations, and methods associated with sets in Python. Sets are commonly used when you need to work with a unique collection of elements and perform set-based operations efficiently."
   ]
  }
 ],
 "metadata": {
  "kernelspec": {
   "display_name": "Python 3",
   "language": "python",
   "name": "python3"
  },
  "language_info": {
   "codemirror_mode": {
    "name": "ipython",
    "version": 3
   },
   "file_extension": ".py",
   "mimetype": "text/x-python",
   "name": "python",
   "nbconvert_exporter": "python",
   "pygments_lexer": "ipython3",
   "version": "3.11.2"
  },
  "orig_nbformat": 4
 },
 "nbformat": 4,
 "nbformat_minor": 2
}
