{
 "cells": [
  {
   "cell_type": "markdown",
   "metadata": {},
   "source": [
    "### Dictionary, its properties, methods"
   ]
  },
  {
   "cell_type": "markdown",
   "metadata": {},
   "source": [
    "**Dictionary** is a built-in data structure that stores a collection of key-value pairs. Each key is unique and used to access its associated value. Dictionaries are unordered, meaning the order of elements is not guaranteed, and they are mutable, allowing you to add, modify, or remove key-value pairs dynamically."
   ]
  },
  {
   "cell_type": "markdown",
   "metadata": {},
   "source": [
    "**Properties of Dictionaries**:\n",
    "\n",
    "1. **Key-Value Pairs**: Dictionaries consist of key-value pairs, where each key is associated with a specific value.\n",
    "\n",
    "2. **Uniqueness**: Keys must be unique within a dictionary. If you try to add a duplicate key, it will overwrite the existing value.\n",
    "\n",
    "3. **Mutability**: Dictionaries are mutable, meaning you can change their content by adding, modifying, or removing key-value pairs.\n",
    "\n",
    "4. **No Indexing**: Unlike lists or tuples, dictionaries are not indexed by numbers. Instead, you access values by specifying their keys.\n"
   ]
  },
  {
   "cell_type": "markdown",
   "metadata": {},
   "source": [
    "**Creating a Dictionary**:\n",
    "\n",
    "You can create a dictionary by enclosing a comma-separated list of key-value pairs within curly braces `{}`. Each key-value pair is separated by a colon `:`.\n"
   ]
  },
  {
   "cell_type": "code",
   "execution_count": 1,
   "metadata": {},
   "outputs": [],
   "source": [
    "# Creating a dictionary of person's information\n",
    "person = {\n",
    "    \"name\": \"Alice\",\n",
    "    \"age\": 30,\n",
    "    \"city\": \"New York\"\n",
    "}"
   ]
  },
  {
   "cell_type": "markdown",
   "metadata": {},
   "source": [
    "**Accessing Values**:\n",
    "\n",
    "You access values in a dictionary by specifying their keys inside square brackets `[]`.\n"
   ]
  },
  {
   "cell_type": "code",
   "execution_count": 2,
   "metadata": {},
   "outputs": [],
   "source": [
    "name = person[\"name\"]  # Accessing the value associated with the key \"name\""
   ]
  },
  {
   "cell_type": "markdown",
   "metadata": {},
   "source": [
    "**Dictionary Methods**:\n",
    "\n",
    "Here are some common methods you can use with dictionaries:"
   ]
  },
  {
   "cell_type": "markdown",
   "metadata": {},
   "source": [
    "- `get(key, default)`: Returns the value associated with the given key. If the key is not found, it returns the specified default value (or `None` if not provided)."
   ]
  },
  {
   "cell_type": "code",
   "execution_count": 3,
   "metadata": {},
   "outputs": [],
   "source": [
    "age = person.get(\"age\", 0)  # Returns 30\n",
    "country = person.get(\"country\", \"Unknown\")  # Returns \"Unknown\" since \"country\" is not a key in the dictionary"
   ]
  },
  {
   "cell_type": "markdown",
   "metadata": {},
   "source": [
    "- `keys()`: Returns a list of all the keys in the dictionary."
   ]
  },
  {
   "cell_type": "code",
   "execution_count": 4,
   "metadata": {},
   "outputs": [],
   "source": [
    "keys = person.keys()  # Returns a list: [\"name\", \"age\", \"city\"]"
   ]
  },
  {
   "cell_type": "markdown",
   "metadata": {},
   "source": [
    "- `values()`: Returns a list of all the values in the dictionary."
   ]
  },
  {
   "cell_type": "code",
   "execution_count": 5,
   "metadata": {},
   "outputs": [],
   "source": [
    "values = person.values()  # Returns a list: [\"Alice\", 30, \"New York\"]"
   ]
  },
  {
   "cell_type": "markdown",
   "metadata": {},
   "source": [
    "- `items()`: Returns a list of key-value pairs (tuples) as `(key, value)`."
   ]
  },
  {
   "cell_type": "code",
   "execution_count": 6,
   "metadata": {},
   "outputs": [],
   "source": [
    "items = person.items()  # Returns a list of tuples: [(\"name\", \"Alice\"), (\"age\", 30), (\"city\", \"New York\")]"
   ]
  },
  {
   "cell_type": "markdown",
   "metadata": {},
   "source": [
    "- `pop(key, default)`: Removes and returns the value associated with the given key. If the key is not found, it returns the specified default value (or raises an error if not provided)."
   ]
  },
  {
   "cell_type": "code",
   "execution_count": 7,
   "metadata": {},
   "outputs": [],
   "source": [
    "age = person.pop(\"age\")  # Removes the \"age\" key-value pair and returns 30"
   ]
  },
  {
   "cell_type": "markdown",
   "metadata": {},
   "source": [
    "These are some of the fundamental concepts, properties, and methods of dictionaries in Python. Dictionaries are commonly used for tasks where you need to associate data with unique keys, such as storing configuration settings, organizing data, or building data structures like JSON objects."
   ]
  }
 ],
 "metadata": {
  "kernelspec": {
   "display_name": "Python 3",
   "language": "python",
   "name": "python3"
  },
  "language_info": {
   "codemirror_mode": {
    "name": "ipython",
    "version": 3
   },
   "file_extension": ".py",
   "mimetype": "text/x-python",
   "name": "python",
   "nbconvert_exporter": "python",
   "pygments_lexer": "ipython3",
   "version": "3.11.2"
  },
  "orig_nbformat": 4
 },
 "nbformat": 4,
 "nbformat_minor": 2
}
