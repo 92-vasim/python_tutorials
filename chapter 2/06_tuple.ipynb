{
 "cells": [
  {
   "cell_type": "markdown",
   "metadata": {},
   "source": [
    "### Tuple & Its methods"
   ]
  },
  {
   "cell_type": "markdown",
   "metadata": {},
   "source": [
    "**Tuple** is a data structure that is quite similar to a list, but with one key difference: tuples are immutable. This means that once you create a tuple, you cannot change its contents (add, remove, or modify elements). Tuples are defined using parentheses `()`, and elements within the tuple are separated by commas.\n"
   ]
  },
  {
   "cell_type": "markdown",
   "metadata": {},
   "source": [
    "Here's an explanation of tuples and some commonly used tuple methods:\n"
   ]
  },
  {
   "cell_type": "markdown",
   "metadata": {},
   "source": [
    "\n",
    "1. **Creating a Tuple**:"
   ]
  },
  {
   "cell_type": "code",
   "execution_count": 1,
   "metadata": {},
   "outputs": [],
   "source": [
    "fruits_tuple = (\"apple\", \"banana\", \"cherry\")"
   ]
  },
  {
   "cell_type": "markdown",
   "metadata": {},
   "source": [
    "2. **Accessing Elements (Tuple Indexing)**:"
   ]
  },
  {
   "cell_type": "markdown",
   "metadata": {},
   "source": [
    "- Like lists, tuples are zero-indexed."
   ]
  },
  {
   "cell_type": "code",
   "execution_count": 2,
   "metadata": {},
   "outputs": [],
   "source": [
    "first_fruit = fruits_tuple[0]  # Access the first element (apple)\n",
    "second_fruit = fruits_tuple[1]  # Access the second element (banana)"
   ]
  },
  {
   "cell_type": "markdown",
   "metadata": {},
   "source": [
    "- Negative indices also work for tuples, counting from the end."
   ]
  },
  {
   "cell_type": "code",
   "execution_count": 3,
   "metadata": {},
   "outputs": [],
   "source": [
    "last_fruit = fruits_tuple[-1]  # Access the last element (cherry)"
   ]
  },
  {
   "cell_type": "markdown",
   "metadata": {},
   "source": [
    "3. **Tuple Methods**:"
   ]
  },
  {
   "cell_type": "markdown",
   "metadata": {},
   "source": [
    "Since tuples are immutable, they have fewer methods compared to lists. Here are some of the common methods and operations you can perform on tuples:"
   ]
  },
  {
   "cell_type": "markdown",
   "metadata": {},
   "source": [
    "- `count()`: Returns the number of times a specified element appears in the tuple."
   ]
  },
  {
   "cell_type": "code",
   "execution_count": 4,
   "metadata": {},
   "outputs": [],
   "source": [
    "count_banana = fruits_tuple.count(\"banana\")  # count_banana is 1"
   ]
  },
  {
   "cell_type": "markdown",
   "metadata": {},
   "source": [
    "   - `index()`: Returns the index of the first occurrence of a specified element."
   ]
  },
  {
   "cell_type": "code",
   "execution_count": 5,
   "metadata": {},
   "outputs": [],
   "source": [
    "index_cherry = fruits_tuple.index(\"cherry\")  # index_cherry is 2"
   ]
  },
  {
   "cell_type": "markdown",
   "metadata": {},
   "source": [
    "- `len()`: Returns the number of elements in the tuple."
   ]
  },
  {
   "cell_type": "code",
   "execution_count": 6,
   "metadata": {},
   "outputs": [],
   "source": [
    "num_fruits = len(fruits_tuple)  # num_fruits is 3"
   ]
  },
  {
   "cell_type": "markdown",
   "metadata": {},
   "source": [
    "- Tuple packing and unpacking:\n",
    "\n",
    "     You can create and unpack tuples in Python. For example:"
   ]
  },
  {
   "cell_type": "code",
   "execution_count": 7,
   "metadata": {},
   "outputs": [],
   "source": [
    "# Packing\n",
    "person = (\"John\", 30, \"Engineer\")\n",
    "\n",
    "# Unpacking\n",
    "name, age, occupation = person"
   ]
  },
  {
   "cell_type": "markdown",
   "metadata": {},
   "source": [
    "Here, `person` is a tuple containing three elements, and we can unpack them into individual variables."
   ]
  },
  {
   "cell_type": "markdown",
   "metadata": {},
   "source": [
    "Tuples are often used when you have a collection of items that should not change throughout the program's execution. They can also be used for multiple return values from functions or to represent items with a fixed order."
   ]
  },
  {
   "cell_type": "markdown",
   "metadata": {},
   "source": [
    "#### Difference between list and tuple"
   ]
  },
  {
   "cell_type": "markdown",
   "metadata": {},
   "source": [
    "Lists and tuples are both used to store collections of items in Python, but they have distinct characteristics and use cases. Here's a breakdown of their use cases and the key differences between them:\n",
    "\n",
    "**Lists**:\n",
    "\n",
    "1. **Mutable**: Lists are mutable, which means you can add, remove, or modify elements after creating the list. This makes them suitable for situations where you need to change the contents of the collection.\n",
    "\n",
    "2. **Use Cases**:\n",
    "   - Storing a collection of items that might change over time.\n",
    "   - Iterating over and modifying elements in a collection.\n",
    "   - Creating dynamic lists where elements are added or removed as needed.\n",
    "\n",
    "3. **Example**:\n",
    "\n",
    "```python\n",
    "fruits = [\"apple\", \"banana\", \"cherry\"]\n",
    "fruits.append(\"date\")\n",
    "fruits[1] = \"grape\"\n",
    "```\n",
    "\n",
    "**Tuples**:\n",
    "\n",
    "1. **Immutable**: Tuples are immutable, meaning their elements cannot be changed after creation. Once you define a tuple, its contents remain fixed.\n",
    "\n",
    "2. **Use Cases**:\n",
    "   - Storing a collection of items that should not be changed accidentally.\n",
    "   - Assigning multiple values to variables simultaneously (tuple packing and unpacking).\n",
    "   - Using as dictionary keys (since they are hashable, unlike lists).\n",
    "\n",
    "3. **Example**:\n",
    "\n",
    "```python\n",
    "point = (3, 4)\n",
    "name, age = (\"Alice\", 30)\n",
    "```\n",
    "\n",
    "**Key Differences**:\n",
    "\n",
    "1. **Mutability**: Lists are mutable, while tuples are immutable. Lists allow you to change their elements, whereas tuples do not.\n",
    "\n",
    "2. **Syntax**: Lists are defined using square brackets `[]`, while tuples use parentheses `()`.\n",
    "\n",
    "3. **Performance**: Tuples are generally slightly faster and consume less memory than lists because of their immutability.\n",
    "\n",
    "4. **Hashability**: Tuples can be used as dictionary keys because they are hashable (immutable), while lists cannot.\n",
    "\n",
    "5. **Use Case Flexibility**: Lists are more flexible when you need to add, remove, or modify elements. Tuples are used when you want to ensure that the data remains unchanged.\n",
    "\n",
    "**Summary**:\n",
    "\n",
    "In summary, choose lists when you need a collection of items that may change over time and you want the flexibility to modify them. On the other hand, choose tuples when you have a collection of items that should remain constant and immutable, or when you need to work with multiple values as a single unit. Understanding when to use lists and when to use tuples will help you write more efficient and robust Python code."
   ]
  }
 ],
 "metadata": {
  "kernelspec": {
   "display_name": "Python 3",
   "language": "python",
   "name": "python3"
  },
  "language_info": {
   "codemirror_mode": {
    "name": "ipython",
    "version": 3
   },
   "file_extension": ".py",
   "mimetype": "text/x-python",
   "name": "python",
   "nbconvert_exporter": "python",
   "pygments_lexer": "ipython3",
   "version": "3.11.2"
  },
  "orig_nbformat": 4
 },
 "nbformat": 4,
 "nbformat_minor": 2
}
