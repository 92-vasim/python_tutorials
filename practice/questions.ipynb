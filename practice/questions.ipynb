{
 "cells": [
  {
   "cell_type": "markdown",
   "metadata": {},
   "source": [
    "### Chapter - 1"
   ]
  },
  {
   "cell_type": "markdown",
   "metadata": {},
   "source": [
    "1. Write a program to print Twinkle twinkle little star poem in Python\n",
    "2. Use REPL and print the table of 5 using it.\n",
    "3. Install an external module and use it to perform an operation of your interest.\n",
    "4. Write a Python program to pring the contents of a directory using OS module. Search online for the function which does that.\n",
    "5. Label the program writtern in problem 4 with comments."
   ]
  },
  {
   "cell_type": "markdown",
   "metadata": {},
   "source": [
    "### Chapter - 2"
   ]
  },
  {
   "cell_type": "markdown",
   "metadata": {},
   "source": [
    "1. Write a Python program to add two numbers\n",
    "2. Write a Python program to find remainder when a number is divided by 2.\n",
    "3. Check the type of the variable assigned using input() function.\n",
    "4. Use comparison operators to find out whether a given variable a is greater than \"b\" or not.\n",
    "5. Write a Python program to find average of two numbers entered by the user. \n",
    "6. Write a Python program to calculate square of a number entered by the user."
   ]
  },
  {
   "cell_type": "markdown",
   "metadata": {},
   "source": [
    "### Chapter - 3"
   ]
  },
  {
   "cell_type": "markdown",
   "metadata": {},
   "source": [
    "1. Write a Python program to display a user entered name followed by Good Afternoo using input() function.\n",
    "2. Write a program to fill in a letter template given below with name and date. \n",
    "```python\n",
    "letter = \"\"\"\n",
    "        Dear <|NAME|>, \n",
    "            You are selected!\n",
    "            <|DATE|>\n",
    "    \"\"\"\n",
    "```\n",
    "\n",
    "3. Write a program to detect double spaces in a string.\n",
    "4. Replace the double spaces from problem 3 with single spaces.\n",
    "5. Write a program to format the following letter using escape sequence characters.\n",
    "```python\n",
    "letter = \"\"\"\n",
    "        Dear Vasim, this Python course is nice. Thanks!\n",
    "    \"\"\"\n",
    "```"
   ]
  },
  {
   "cell_type": "markdown",
   "metadata": {},
   "source": [
    "### Chapter - 4"
   ]
  },
  {
   "cell_type": "markdown",
   "metadata": {},
   "source": [
    "1. Write a program to store seven fruits in a list entered by the user. \n",
    "2. Write a program to accept marks of 6 students and display them in a stored manner.\n",
    "3. Check that a tuple cannot be changed in Python\n",
    "4. Write a program to sum a list with 4\n",
    "5. Write a program to count the number of zeroes in the following tuple:\n",
    "```python\n",
    "a = (7, 0, 8, 0, 0, 9)\n",
    "```"
   ]
  },
  {
   "cell_type": "markdown",
   "metadata": {},
   "source": [
    "### Chapter - 5\n"
   ]
  },
  {
   "cell_type": "markdown",
   "metadata": {},
   "source": [
    "1. Write a program to create a dictionary of Hindi words with values as their English translation. Provide user with an option to look it up!.\n",
    "2. Write a program to input eight numbers from the user and display all the unique numbers(once).\n",
    "3. Can we have a set with 18(int) and \"18\"(str) as a values in it?\n",
    "4. What will be the length of following set S:\n",
    "```python\n",
    "S = set()\n",
    "S.add(20)\n",
    "S.add(20.0)\n",
    "S.add(\"20\") # => Length of S after these operations?\n",
    "```"
   ]
  },
  {
   "cell_type": "markdown",
   "metadata": {},
   "source": []
  }
 ],
 "metadata": {
  "kernelspec": {
   "display_name": "Python 3",
   "language": "python",
   "name": "python3"
  },
  "language_info": {
   "name": "python",
   "version": "3.11.5"
  },
  "orig_nbformat": 4
 },
 "nbformat": 4,
 "nbformat_minor": 2
}
